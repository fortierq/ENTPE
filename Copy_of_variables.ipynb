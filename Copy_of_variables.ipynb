{
  "nbformat": 4,
  "nbformat_minor": 5,
  "metadata": {
    "kernelspec": {
      "display_name": "Python 3.8.5 64-bit",
      "language": "python",
      "name": "python3"
    },
    "colab": {
      "name": "Copy of variables.ipynb",
      "provenance": [],
      "collapsed_sections": [],
      "toc_visible": true,
      "include_colab_link": true
    }
  },
  "cells": [
    {
      "cell_type": "markdown",
      "metadata": {
        "id": "view-in-github",
        "colab_type": "text"
      },
      "source": [
        "<a href=\"https://colab.research.google.com/github/fortierq/ENTPE/blob/master/Copy_of_variables.ipynb\" target=\"_parent\"><img src=\"https://colab.research.google.com/assets/colab-badge.svg\" alt=\"Open In Colab\"/></a>"
      ]
    },
    {
      "cell_type": "markdown",
      "metadata": {
        "id": "5bd539ce"
      },
      "source": [
        "# Variables\n",
        "\n",
        "## Affectation\n",
        "\n",
        "Une variable en informatique possède 3 caractéristiques :\n",
        "- un **nom** (par exemple `a`)\n",
        "- une **valeur** (par exemple 42)\n",
        "- un **type** (par exemple `int`, entier)\n",
        "\n",
        "Par exemple, l'instruction suivante permet de définir une variable nommée `a`, de valeur 42 et de type entier :"
      ],
      "id": "5bd539ce"
    },
    {
      "cell_type": "code",
      "metadata": {
        "id": "46f4dfa5"
      },
      "source": [
        "a = 42  # définition d'une variable a"
      ],
      "id": "46f4dfa5",
      "execution_count": null,
      "outputs": []
    },
    {
      "cell_type": "markdown",
      "metadata": {
        "id": "4a6ccfb5"
      },
      "source": [
        "Lorsque l'on définit une variable de cette façon, la valeur 42 est stockée dans la mémoire RAM et peut être récupérée en écrivant le nom de la variable :"
      ],
      "id": "4a6ccfb5"
    },
    {
      "cell_type": "code",
      "metadata": {
        "colab": {
          "base_uri": "https://localhost:8080/"
        },
        "id": "e61f2cb6",
        "outputId": "2a0c27e2-cc3e-49c4-dfca-dee8bacc03eb"
      },
      "source": [
        "a"
      ],
      "id": "e61f2cb6",
      "execution_count": null,
      "outputs": [
        {
          "output_type": "execute_result",
          "data": {
            "text/plain": [
              "42"
            ]
          },
          "metadata": {
            "tags": []
          },
          "execution_count": 2
        }
      ]
    },
    {
      "cell_type": "markdown",
      "metadata": {
        "id": "111ceb40"
      },
      "source": [
        "Python remplace `a` par sa valeur et donne le résultat.  \n",
        "On peut aussi modifier la valeur de `a` :"
      ],
      "id": "111ceb40"
    },
    {
      "cell_type": "code",
      "metadata": {
        "id": "9cfc31ae"
      },
      "source": [
        "a = -4  # modification de a\n",
        "a"
      ],
      "id": "9cfc31ae",
      "execution_count": null,
      "outputs": []
    },
    {
      "cell_type": "markdown",
      "metadata": {
        "id": "757d3a7b"
      },
      "source": [
        "De manière générale, une affectation s'écrit sous la forme suivante :\n",
        "```python\n",
        "a = expression\n",
        "```\n",
        "**Cette affectation a pour effet de calculer la valeur de l'expression et de mettre cette valeur dans `a`.**\n",
        "\n",
        "Considérons par exemple les lignes suivantes :"
      ],
      "id": "757d3a7b"
    },
    {
      "cell_type": "code",
      "metadata": {
        "colab": {
          "base_uri": "https://localhost:8080/"
        },
        "id": "08972b4c",
        "outputId": "e7a9d247-843b-40e7-df78-a1a8b9a47920"
      },
      "source": [
        "x = 2  # x est défini en prenant la valeur 2\n",
        "y = 3  # y est défini en prenant la valeur 3\n",
        "x = x + y*4  # x + y*4 est calculé et sa valeur (14) est mise dans x\n",
        "print(x)"
      ],
      "id": "08972b4c",
      "execution_count": null,
      "outputs": [
        {
          "output_type": "stream",
          "text": [
            "14\n"
          ],
          "name": "stdout"
        }
      ]
    },
    {
      "cell_type": "markdown",
      "metadata": {
        "id": "29656743"
      },
      "source": [
        "## Types de base\n",
        "\n",
        "Voici les principaux types qui vont nous intéresser en Python :\n",
        "\n",
        "| Type | Description | Exemple |\n",
        "| --- | --- | --- |\n",
        "| `int` | entier | `0`, `42`, `-7` |\n",
        "| `float` | nombre à virgule | `3.14`, `-2.718` |\n",
        "| `bool` | booléen (vrai ou faux) | `True`, `False` |\n",
        "| `tuple` | $n$-uplet | `(1, 2, 3)`, `(3.14, \"chaine\", [1, 0])` |\n",
        "| `list` | liste | `[1, 2, 3]`, `[3.14, \"chaine\", [1, 0]]` |\n",
        "| `str` | chaîne de caractères | `\"blabla\"`, `\"\"`, `\"info\"` |\n",
        "\n",
        "### Types numériques : `int`, `float`\n",
        "\n",
        "* `int` est utilisé pour les entiers (naturels : positif ou négatif).\n",
        "* `float` est utilisé pour les nombres à virgule.\n",
        "\n",
        "Python utilise en fait des points pour les nombres à virgules. Les virgules sont utilisées pour séparer des éléments, par exemple dans des `tuple` ou `list` :"
      ],
      "id": "29656743"
    },
    {
      "cell_type": "code",
      "metadata": {
        "colab": {
          "base_uri": "https://localhost:8080/"
        },
        "id": "83f7142e",
        "outputId": "16a56c2b-7928-44d3-83fd-c68c81e121d6"
      },
      "source": [
        "e = 2,718\n",
        "print(e)  # on a défini un couple et non pas un float !\n",
        "e = 2.718\n",
        "print(e)  # cette fois, on a bien un float"
      ],
      "id": "83f7142e",
      "execution_count": null,
      "outputs": [
        {
          "output_type": "stream",
          "text": [
            "(2, 718)\n",
            "2.718\n"
          ],
          "name": "stdout"
        }
      ]
    },
    {
      "cell_type": "markdown",
      "metadata": {
        "id": "df3fd2c7"
      },
      "source": [
        "Voici les opérations que l'on peut effectuer sur les `int` et `float` :\n",
        "\n",
        "| Opérateur | Signification | Exemple |\n",
        "| --- | --- | --- |\n",
        "| `+` | addition | `2 + 3` vaut `5` |\n",
        "| `-` | soustraction | `2 - 3` vaut `-1` |\n",
        "| `*` | multiplication | `2*3` vaut `6` |\n",
        "| `**` | puissance | `2**3` vaut `8` |\n",
        "| `/` | division (dans $\\mathbb{Q}$) | `5/2` vaut `2.5` |\n",
        "| `//` | division **entière** (dans $\\mathbb{N}$) | `5//2` vaut `2`  |\n",
        "\n",
        "Une racine peut être calculée avec `**`. Par exemple, $\\sqrt{2} = 2^{\\frac{1}{2}}$ :"
      ],
      "id": "df3fd2c7"
    },
    {
      "cell_type": "code",
      "metadata": {
        "id": "ea5988f9"
      },
      "source": [
        "2**0.5"
      ],
      "id": "ea5988f9",
      "execution_count": null,
      "outputs": []
    },
    {
      "cell_type": "markdown",
      "metadata": {
        "id": "b95fa959"
      },
      "source": [
        "**Exercice** : utiliser Python pour calculer la valeur (approximative) du nombre d'or $\\phi = \\frac{1 + \\sqrt{5}}{2}$\n"
      ],
      "id": "b95fa959"
    },
    {
      "cell_type": "code",
      "metadata": {
        "colab": {
          "base_uri": "https://localhost:8080/",
          "height": 178
        },
        "id": "e645338c",
        "outputId": "70ac2fba-695d-48b8-a04c-9ac93f86227a"
      },
      "source": [
        "nombre_or = ... # à remplir\n",
        "assert abs(nombre_or - 1.618) < 0.01 # pour vérifier"
      ],
      "id": "e645338c",
      "execution_count": null,
      "outputs": [
        {
          "output_type": "error",
          "ename": "TypeError",
          "evalue": "ignored",
          "traceback": [
            "\u001b[0;31m---------------------------------------------------------------------------\u001b[0m",
            "\u001b[0;31mTypeError\u001b[0m                                 Traceback (most recent call last)",
            "\u001b[0;32m<ipython-input-10-90685d6e0e59>\u001b[0m in \u001b[0;36m<module>\u001b[0;34m()\u001b[0m\n\u001b[1;32m      1\u001b[0m \u001b[0mnombre_or\u001b[0m \u001b[0;34m=\u001b[0m \u001b[0;34m...\u001b[0m \u001b[0;31m# à remplir\u001b[0m\u001b[0;34m\u001b[0m\u001b[0;34m\u001b[0m\u001b[0m\n\u001b[0;32m----> 2\u001b[0;31m \u001b[0;32massert\u001b[0m \u001b[0mabs\u001b[0m\u001b[0;34m(\u001b[0m\u001b[0mnombre_or\u001b[0m \u001b[0;34m-\u001b[0m \u001b[0;36m1.618\u001b[0m\u001b[0;34m)\u001b[0m \u001b[0;34m<\u001b[0m \u001b[0;36m0.01\u001b[0m \u001b[0;31m# pour vérifier\u001b[0m\u001b[0;34m\u001b[0m\u001b[0;34m\u001b[0m\u001b[0m\n\u001b[0m",
            "\u001b[0;31mTypeError\u001b[0m: unsupported operand type(s) for -: 'ellipsis' and 'float'"
          ]
        }
      ]
    },
    {
      "cell_type": "markdown",
      "metadata": {
        "id": "e02ddf3b"
      },
      "source": [
        "On peut comparer des `int`/`float` de la façon suivante :  \n",
        "\n",
        "| Symbole | Signification | Exemple |\n",
        "| --- | --- | --- |\n",
        "| `==` | égal | `0 == 0` vaut `True`, `0 == 1` vaut `False` |\n",
        "| `<` | inférieur strictement | `1 < 2` vaut `True`, `3.14 < 3.14` vaut `False` |\n",
        "| `>` | supérieur strictement | `1 > 2` vaut `False`, `3.14 > 3.14` vaut `False` |\n",
        "| `<=` | inférieur ou égal | `1 <= 2` vaut `True`, `3.14 <= 3.14` vaut `True` |\n",
        "| `>=` | supérieur ou égal | `1 >= 2` vaut `False`, `3.14 >= 3.14` vaut `True` |\n",
        "| `!=` | différent | `1 != 2` vaut `True`, `0 != 1` vaut `True` |\n",
        "\n",
        "**Attention** : ne pas confondre `a = b`, qui permet de mettre la valeur de `b` dans `a`, et `a == b` qui permet de tester si `a` et `b` ont la même valeur.  \n",
        "\n",
        "Il est possible d'enchaîner des comparaisons. Par exemple, pour tester si $\\phi$ est compris entre 1 et 2 :"
      ],
      "id": "e02ddf3b"
    },
    {
      "cell_type": "code",
      "metadata": {
        "colab": {
          "base_uri": "https://localhost:8080/"
        },
        "id": "46a326bc",
        "outputId": "441a2c8d-814a-4bd1-a845-86271bd1620c"
      },
      "source": [
        "1 < (1 + 5**0.5)/2 < 2"
      ],
      "id": "46a326bc",
      "execution_count": null,
      "outputs": [
        {
          "output_type": "execute_result",
          "data": {
            "text/plain": [
              "True"
            ]
          },
          "metadata": {
            "tags": []
          },
          "execution_count": 14
        }
      ]
    },
    {
      "cell_type": "markdown",
      "metadata": {
        "id": "0GxkjEykx0ou"
      },
      "source": [
        "### Calcul approché des flottants\n",
        "\n",
        "À cause de la représentation binaire des données sur un ordinateur, les flottants sont stockés de façon approchée et non pas exact. Par exemple `0.1 + 0.2` ne donne pas exactement `0.3` :"
      ],
      "id": "0GxkjEykx0ou"
    },
    {
      "cell_type": "code",
      "metadata": {
        "colab": {
          "base_uri": "https://localhost:8080/"
        },
        "id": "6LErgmRFyzUj",
        "outputId": "41852847-7763-4017-ad3b-d05087392eda"
      },
      "source": [
        "0.1 + 0.2  # ne vaut pas 0.3"
      ],
      "id": "6LErgmRFyzUj",
      "execution_count": null,
      "outputs": [
        {
          "output_type": "execute_result",
          "data": {
            "text/plain": [
              "0.30000000000000004"
            ]
          },
          "metadata": {
            "tags": []
          },
          "execution_count": 16
        }
      ]
    },
    {
      "cell_type": "code",
      "metadata": {
        "id": "2ydfxnw4y7Ef"
      },
      "source": [
        "0.1 + 0.2 == 0.3  # donne False !"
      ],
      "id": "2ydfxnw4y7Ef",
      "execution_count": null,
      "outputs": []
    },
    {
      "cell_type": "markdown",
      "metadata": {
        "id": "dd77xQaozFgt"
      },
      "source": [
        "On retiendra qu'il faut éviter de comparer deux flottants avec `==` (regarder si la différence est inférieure à 0.01 par exemple) et que les calculs sur les flottants se font avec des erreurs.  \n",
        "Par contre les calculs sur les entiers se font de façon exacte."
      ],
      "id": "dd77xQaozFgt"
    },
    {
      "cell_type": "markdown",
      "metadata": {
        "id": "e114c39d"
      },
      "source": [
        "### Booléens\n",
        "\n",
        "Un booléen est soit vrai (`True`) soit faux (`False`). On peut utiliser les opérations booléennes suivantes :\n",
        "\n",
        "| Opérateur | Signification | Exemple |\n",
        "| --- | --- | --- |\n",
        "| `or` | ou | `0 == 0 or 3.14 == 3` vaut `True` |\n",
        "| `and` | et | `0 == 0 and 3.14 == 3` vaut `False` |\n",
        "| `not` | négation | `not 0 < 1` vaut `False` |\n",
        "\n",
        "Exercice : calculer de tête la valeur de l'expression suivante et vérifier avec Python.\n",
        "```python\n",
        "not (1 <= 1 and (1 == 2 or 0 != 1))\n",
        "```\n",
        "````"
      ],
      "id": "e114c39d"
    },
    {
      "cell_type": "markdown",
      "metadata": {
        "id": "39797cf1"
      },
      "source": [
        "### Listes\n",
        "\n",
        "Une liste sert à stocker plusieurs éléments. Par exemple, pour définir une liste contenant l'entier 1, le booléen `True` et le flottant `3.14` :"
      ],
      "id": "39797cf1"
    },
    {
      "cell_type": "code",
      "metadata": {
        "tags": [],
        "colab": {
          "base_uri": "https://localhost:8080/"
        },
        "id": "59a96c3b",
        "outputId": "eba4af7a-8bec-4510-b698-599392c7ff2a"
      },
      "source": [
        "L = [1, True, 3.14]  # L est une liste contenant 1, True et 3.14\n",
        "L"
      ],
      "id": "59a96c3b",
      "execution_count": null,
      "outputs": [
        {
          "output_type": "execute_result",
          "data": {
            "text/plain": [
              "[1, True, 3.14]"
            ]
          },
          "metadata": {
            "tags": []
          },
          "execution_count": 17
        }
      ]
    },
    {
      "cell_type": "markdown",
      "metadata": {
        "id": "5ab7034b"
      },
      "source": [
        "| Python | Signification | Exemple |\n",
        "|---|---|---|\n",
        "| `[..., ..., ...]` | Création d'une liste | `[1, True, 3.14]` <br> `[]` (liste vide) |\n",
        "| `len(L)` | Taille d'une liste `L` | `len([1, True, 3.14])` vaut 3 |\n",
        "| `L[i]` | Élement d'indice `i` d'une liste `L` | Si `L` vaut `[1, True, 3.14]`, <br>`L[2]` vaut `3.14` |\n",
        "| `L.append(e)` | Ajoute un élément `e` à une liste `L` | `L.append(42)` |\n",
        "\n",
        "**Attention** : les indices commencent toujours à 0 en informatique. Le dernier indice d'une liste `L` est `len(L) - 1`.\n",
        "\n",
        "`L[-1]` est un raccourci permettant d'accéder au dernier élément d'une liste. De même, `L[-2]` accède à l'avant dernier élément...\n",
        "\n",
        "Essayer d'accéder à un élément qui n'existe pas produit une erreur :"
      ],
      "id": "5ab7034b"
    },
    {
      "cell_type": "code",
      "metadata": {
        "tags": [
          "hide-output"
        ],
        "colab": {
          "base_uri": "https://localhost:8080/",
          "height": 212
        },
        "id": "d1f0463f",
        "outputId": "3ba6fb3d-fe13-448c-8778-7c3d7a74fd10"
      },
      "source": [
        "L = [3, 2, 4]\n",
        "print(L[1])  # donne 2\n",
        "print(L[3])  # ERREUR"
      ],
      "id": "d1f0463f",
      "execution_count": null,
      "outputs": [
        {
          "output_type": "stream",
          "text": [
            "2\n"
          ],
          "name": "stdout"
        },
        {
          "output_type": "error",
          "ename": "IndexError",
          "evalue": "ignored",
          "traceback": [
            "\u001b[0;31m---------------------------------------------------------------------------\u001b[0m",
            "\u001b[0;31mIndexError\u001b[0m                                Traceback (most recent call last)",
            "\u001b[0;32m<ipython-input-19-c6afb006e58f>\u001b[0m in \u001b[0;36m<module>\u001b[0;34m()\u001b[0m\n\u001b[1;32m      1\u001b[0m \u001b[0mL\u001b[0m \u001b[0;34m=\u001b[0m \u001b[0;34m[\u001b[0m\u001b[0;36m3\u001b[0m\u001b[0;34m,\u001b[0m \u001b[0;36m2\u001b[0m\u001b[0;34m,\u001b[0m \u001b[0;36m4\u001b[0m\u001b[0;34m]\u001b[0m\u001b[0;34m\u001b[0m\u001b[0;34m\u001b[0m\u001b[0m\n\u001b[1;32m      2\u001b[0m \u001b[0mprint\u001b[0m\u001b[0;34m(\u001b[0m\u001b[0mL\u001b[0m\u001b[0;34m[\u001b[0m\u001b[0;36m1\u001b[0m\u001b[0;34m]\u001b[0m\u001b[0;34m)\u001b[0m  \u001b[0;31m# donne 2\u001b[0m\u001b[0;34m\u001b[0m\u001b[0;34m\u001b[0m\u001b[0m\n\u001b[0;32m----> 3\u001b[0;31m \u001b[0mprint\u001b[0m\u001b[0;34m(\u001b[0m\u001b[0mL\u001b[0m\u001b[0;34m[\u001b[0m\u001b[0;36m3\u001b[0m\u001b[0;34m]\u001b[0m\u001b[0;34m)\u001b[0m  \u001b[0;31m# ERREUR\u001b[0m\u001b[0;34m\u001b[0m\u001b[0;34m\u001b[0m\u001b[0m\n\u001b[0m",
            "\u001b[0;31mIndexError\u001b[0m: list index out of range"
          ]
        }
      ]
    },
    {
      "cell_type": "markdown",
      "metadata": {
        "id": "510f2d71"
      },
      "source": [
        "L'opération de **slicing** `L[i:j]` permet d'extraire une sous liste de `L` contenant les éléments de l'indice `i` inclu à `j` **exclu** :"
      ],
      "id": "510f2d71"
    },
    {
      "cell_type": "code",
      "metadata": {
        "colab": {
          "base_uri": "https://localhost:8080/"
        },
        "id": "cfd2bd1b",
        "outputId": "dff1b3c4-d5f3-4b32-8928-dd05e45d675a"
      },
      "source": [
        "L = [-3, 0, 42, 7, 5]\n",
        "L[1:3]  # extrait une nouvelle liste contenant L[1] et L[2]"
      ],
      "id": "cfd2bd1b",
      "execution_count": null,
      "outputs": [
        {
          "output_type": "execute_result",
          "data": {
            "text/plain": [
              "[0, 42]"
            ]
          },
          "metadata": {
            "tags": []
          },
          "execution_count": 21
        }
      ]
    },
    {
      "cell_type": "markdown",
      "metadata": {
        "id": "3e4915c0"
      },
      "source": [
        "Dans un slicing, il est possible d'ommettre l'indice de début (auquel cas la liste ext extraite à partir du début) ou l'indice de fin (auquel cas la liste ext extraite jusqu'à la fin)."
      ],
      "id": "3e4915c0"
    },
    {
      "cell_type": "code",
      "metadata": {
        "colab": {
          "base_uri": "https://localhost:8080/"
        },
        "id": "1fdcbfc5",
        "outputId": "b1337f9f-415b-4536-a190-e4ac98a799ce"
      },
      "source": [
        "print(L[:3])  # sous-liste du 1er au 3ème élément\n",
        "print(L[-2:])  # sous-liste de l'avant-dernier au dernier élément"
      ],
      "id": "1fdcbfc5",
      "execution_count": null,
      "outputs": [
        {
          "output_type": "stream",
          "text": [
            "[-3, 0, 42]\n",
            "[7, 5]\n"
          ],
          "name": "stdout"
        }
      ]
    },
    {
      "cell_type": "markdown",
      "metadata": {
        "id": "5720998a"
      },
      "source": [
        "### Chaînes de caractères\n",
        "\n",
        "Les chaînes de caractères (string en anglais) servent à stocker du texte, sous forme d'une suite de caractères (symboles). Contrairement aux listes, il n'est pas possible de modifier une chaîne de caractères (on dit que c'est un type immutable)). Par exemple, il n'y a pas de `append` sur les chaîne de caractères."
      ],
      "id": "5720998a"
    },
    {
      "cell_type": "code",
      "metadata": {
        "tags": [
          "hide-output"
        ],
        "colab": {
          "base_uri": "https://localhost:8080/",
          "height": 246
        },
        "id": "795daef3",
        "outputId": "68d2ddc3-0940-41fe-aa5b-97f7d0126222"
      },
      "source": [
        "s = \"l'informatique c'est fun\"  # définition d'une chaîne de caractères\n",
        "print(len(s))  # taille de s\n",
        "print(s[2])  # caractère d'indice 2 (c'est à dire en 3ème position)\n",
        "s[0] = \"L\"  # ERREUR : on ne peut pas modifier un str\n",
        "s.append(\"!\")  # ERREUR : on ne peut pas modifier un str"
      ],
      "id": "795daef3",
      "execution_count": null,
      "outputs": [
        {
          "output_type": "stream",
          "text": [
            "24\n",
            "i\n"
          ],
          "name": "stdout"
        },
        {
          "output_type": "error",
          "ename": "TypeError",
          "evalue": "ignored",
          "traceback": [
            "\u001b[0;31m---------------------------------------------------------------------------\u001b[0m",
            "\u001b[0;31mTypeError\u001b[0m                                 Traceback (most recent call last)",
            "\u001b[0;32m<ipython-input-24-0b34938a86e1>\u001b[0m in \u001b[0;36m<module>\u001b[0;34m()\u001b[0m\n\u001b[1;32m      2\u001b[0m \u001b[0mprint\u001b[0m\u001b[0;34m(\u001b[0m\u001b[0mlen\u001b[0m\u001b[0;34m(\u001b[0m\u001b[0ms\u001b[0m\u001b[0;34m)\u001b[0m\u001b[0;34m)\u001b[0m  \u001b[0;31m# taille de s\u001b[0m\u001b[0;34m\u001b[0m\u001b[0;34m\u001b[0m\u001b[0m\n\u001b[1;32m      3\u001b[0m \u001b[0mprint\u001b[0m\u001b[0;34m(\u001b[0m\u001b[0ms\u001b[0m\u001b[0;34m[\u001b[0m\u001b[0;36m2\u001b[0m\u001b[0;34m]\u001b[0m\u001b[0;34m)\u001b[0m  \u001b[0;31m# caractère d'indice 2 (c'est à dire en 3ème position)\u001b[0m\u001b[0;34m\u001b[0m\u001b[0;34m\u001b[0m\u001b[0m\n\u001b[0;32m----> 4\u001b[0;31m \u001b[0ms\u001b[0m\u001b[0;34m[\u001b[0m\u001b[0;36m0\u001b[0m\u001b[0;34m]\u001b[0m \u001b[0;34m=\u001b[0m \u001b[0;34m\"L\"\u001b[0m  \u001b[0;31m# ERREUR : on ne peut pas modifier un str\u001b[0m\u001b[0;34m\u001b[0m\u001b[0;34m\u001b[0m\u001b[0m\n\u001b[0m\u001b[1;32m      5\u001b[0m \u001b[0ms\u001b[0m\u001b[0;34m.\u001b[0m\u001b[0mappend\u001b[0m\u001b[0;34m(\u001b[0m\u001b[0;34m\"!\"\u001b[0m\u001b[0;34m)\u001b[0m  \u001b[0;31m# ERREUR : on ne peut pas modifier un str\u001b[0m\u001b[0;34m\u001b[0m\u001b[0;34m\u001b[0m\u001b[0m\n",
            "\u001b[0;31mTypeError\u001b[0m: 'str' object does not support item assignment"
          ]
        }
      ]
    },
    {
      "cell_type": "markdown",
      "metadata": {
        "id": "e9a46a7b"
      },
      "source": [
        "### Tuples\n",
        "\n",
        "Les tuples (ou $n$-uplets) sont la généralisation des couples, triplets... Ils ressemblent beaucoup aux chaînes de caractères (en particulier, ils sont immutables) mais servent à stocker autre chose que du texte."
      ],
      "id": "e9a46a7b"
    },
    {
      "cell_type": "code",
      "metadata": {
        "tags": [
          "hide-output"
        ],
        "colab": {
          "base_uri": "https://localhost:8080/",
          "height": 246
        },
        "id": "54bf420a",
        "outputId": "9db04783-c3d3-428c-e6dc-bef5fd4ddb4c"
      },
      "source": [
        "t = (2, 3, 4, 5)\n",
        "print(t[1])  # donne 3\n",
        "print(len(t))  # donne 4\n",
        "t[1] = 6  # ERREUR : on ne peut pas modifier un tuple\n",
        "t.append(6)  # ERREUR : on ne peut pas modifier un tuple"
      ],
      "id": "54bf420a",
      "execution_count": null,
      "outputs": [
        {
          "output_type": "stream",
          "text": [
            "3\n",
            "4\n"
          ],
          "name": "stdout"
        },
        {
          "output_type": "error",
          "ename": "TypeError",
          "evalue": "ignored",
          "traceback": [
            "\u001b[0;31m---------------------------------------------------------------------------\u001b[0m",
            "\u001b[0;31mTypeError\u001b[0m                                 Traceback (most recent call last)",
            "\u001b[0;32m<ipython-input-25-ee0d1b431794>\u001b[0m in \u001b[0;36m<module>\u001b[0;34m()\u001b[0m\n\u001b[1;32m      2\u001b[0m \u001b[0mprint\u001b[0m\u001b[0;34m(\u001b[0m\u001b[0mt\u001b[0m\u001b[0;34m[\u001b[0m\u001b[0;36m1\u001b[0m\u001b[0;34m]\u001b[0m\u001b[0;34m)\u001b[0m  \u001b[0;31m# donne 3\u001b[0m\u001b[0;34m\u001b[0m\u001b[0;34m\u001b[0m\u001b[0m\n\u001b[1;32m      3\u001b[0m \u001b[0mprint\u001b[0m\u001b[0;34m(\u001b[0m\u001b[0mlen\u001b[0m\u001b[0;34m(\u001b[0m\u001b[0mt\u001b[0m\u001b[0;34m)\u001b[0m\u001b[0;34m)\u001b[0m  \u001b[0;31m# donne 4\u001b[0m\u001b[0;34m\u001b[0m\u001b[0;34m\u001b[0m\u001b[0m\n\u001b[0;32m----> 4\u001b[0;31m \u001b[0mt\u001b[0m\u001b[0;34m[\u001b[0m\u001b[0;36m1\u001b[0m\u001b[0;34m]\u001b[0m \u001b[0;34m=\u001b[0m \u001b[0;36m6\u001b[0m  \u001b[0;31m# ERREUR : on ne peut pas modifier un tuple\u001b[0m\u001b[0;34m\u001b[0m\u001b[0;34m\u001b[0m\u001b[0m\n\u001b[0m\u001b[1;32m      5\u001b[0m \u001b[0mt\u001b[0m\u001b[0;34m.\u001b[0m\u001b[0mappend\u001b[0m\u001b[0;34m(\u001b[0m\u001b[0;36m6\u001b[0m\u001b[0;34m)\u001b[0m  \u001b[0;31m# ERREUR : on ne peut pas modifier un tuple\u001b[0m\u001b[0;34m\u001b[0m\u001b[0;34m\u001b[0m\u001b[0m\n",
            "\u001b[0;31mTypeError\u001b[0m: 'tuple' object does not support item assignment"
          ]
        }
      ]
    }
  ]
}