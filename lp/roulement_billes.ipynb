{
 "cells": [
  {
   "source": [
    "# Exercice 28 : roulements à bille\n",
    "\n",
    "## Combinaisons\n",
    "\n",
    "Voici les différentes combinaisons possibles vérifiant $E - I - 2R = 0$:  \n",
    "![png](combinaisons.png)"
   ],
   "cell_type": "markdown",
   "metadata": {}
  },
  {
   "source": [
    "## Modélisation\n",
    "\n",
    "Soit $x_i$ le nombre de roulements à bille produit avec la combinaison $i$. Par exemple $x_1$ consiste à utiliser un BE de rayon 300, un BI de rayon 260 et un BR de rayon 20.  \n",
    "Les contraintes viennent des stocks. Par exemple, $x_1 + x_2 \\leq 40$ vient du fait qu'il ne peut pas y avoir plus de 40 pièces de BE de rayon 300.\n"
   ],
   "cell_type": "markdown",
   "metadata": {}
  },
  {
   "source": [
    "## Résolution avec Python"
   ],
   "cell_type": "markdown",
   "metadata": {}
  },
  {
   "cell_type": "code",
   "execution_count": 33,
   "metadata": {},
   "outputs": [],
   "source": [
    "import mip\n",
    "\n",
    "m = mip.Model()\n",
    "m.verbose = 1\n",
    "x = {i : m.add_var(name=f\"x_{i}\") for i in range(1, 14)}\n",
    "\n",
    "def add_constraints(x, m):\n",
    "    contraintes = [\n",
    "        [1, 2, 40],         # coeff de x1, x2 et stock pour BE = 300\n",
    "        [3, 4, 5, 6, 60],   # BE = 290\n",
    "        [7, 8, 8, 10, 77],  # BE = 280\n",
    "        [11, 12, 13, 55],   # BE = 274\n",
    "        [1, 7, 30],         # BI = 260\n",
    "        [3, 8, 35],         # BI = 256\n",
    "        [2, 4, 11, 51],     # BI = 254\n",
    "        [5, 12, 35],        # BI = 250\n",
    "        [2, 4, 11, 51],     # BI = 254\n",
    "        [10, 13, 34],       # BI = 240\n",
    "        [7, 11, 26],        # BR = 10\n",
    "        [8, 12, 25],        # BR = 12\n",
    "        [3, 13, 75],        # BR = 17\n",
    "        [4, 9, 50],         # BR = 18\n",
    "        [1, 5, 10, 35],     # BR = 20\n",
    "        [2, 6, 25],         # BR = 23\n",
    "    ]\n",
    "    for coeffs in contraintes:\n",
    "        m += mip.xsum(x[i] for i in coeffs[:-1]) <= coeffs[-1] "
   ]
  },
  {
   "cell_type": "code",
   "execution_count": 34,
   "metadata": {},
   "outputs": [
    {
     "output_type": "stream",
     "name": "stdout",
     "text": [
      "x_1: 12.5\nx_2: 25.0\nx_3: 35.0\nx_4: 0.0\nx_5: 10.0\nx_6: 0.0\nx_7: 17.5\nx_8: 0.0\nx_9: 50.0\nx_10: 12.5\nx_11: 8.5\nx_12: 25.0\nx_13: 21.5\nTotal: 217.5\n"
     ]
    }
   ],
   "source": [
    "add_constraints(x, m)\n",
    "m.objective = mip.maximize(mip.xsum(list(x.values())))\n",
    "m.optimize()\n",
    "\n",
    "tot = 0\n",
    "for v in m.vars:\n",
    "    print(f\"{v.name}: {v.x}\")\n",
    "    tot += v.x\n",
    "print(f\"Total: {tot}\")"
   ]
  },
  {
   "source": [
    "La solution obtenue n'est pas entière alors qu'on ne peut manifestement pas créer un nombre non-entier de roulements à bille ! Il faut modifier notre PL pour avoir un PLNE (programme linéaire en nombres entiers, où les variables sont entières):"
   ],
   "cell_type": "markdown",
   "metadata": {}
  },
  {
   "cell_type": "code",
   "execution_count": 37,
   "metadata": {},
   "outputs": [
    {
     "output_type": "stream",
     "name": "stdout",
     "text": [
      "x_1: 12.0\nx_2: 25.0\nx_3: 35.0\nx_4: 0.0\nx_5: 10.0\nx_6: 0.0\nx_7: 18.0\nx_8: 0.0\nx_9: 50.0\nx_10: 13.0\nx_11: 8.0\nx_12: 25.0\nx_13: 21.0\nTotal: 217.0\n"
     ]
    }
   ],
   "source": [
    "m = mip.Model()\n",
    "m.verbose = 1\n",
    "x = {i : m.add_var(var_type=mip.INTEGER, name=f\"x_{i}\") for i in range(1, 14)}\n",
    "add_constraints(x, m)\n",
    "m.objective = mip.maximize(mip.xsum(list(x.values())))\n",
    "m.optimize()\n",
    "\n",
    "tot = 0\n",
    "for v in m.vars:\n",
    "    print(f\"{v.name}: {v.x}\")\n",
    "    tot += v.x\n",
    "print(f\"Total: {tot}\")"
   ]
  },
  {
   "source": [
    "Conclusion : le nombre maximum de roulements à bille que l'on peut produire est **217**. "
   ],
   "cell_type": "markdown",
   "metadata": {}
  }
 ],
 "metadata": {
  "kernelspec": {
   "name": "python385jvsc74a57bd0a99b5983bbc4297086261c0bfeecb6b847d4ec2ce14a4b3df340d247dde1df9f",
   "display_name": "Python 3.8.5 64-bit ('entpe-Ir-4tlQ1-py3.8')"
  },
  "language_info": {
   "codemirror_mode": {
    "name": "ipython",
    "version": 3
   },
   "file_extension": ".py",
   "mimetype": "text/x-python",
   "name": "python",
   "nbconvert_exporter": "python",
   "pygments_lexer": "ipython3",
   "version": "3.8.5-final"
  },
  "metadata": {
   "interpreter": {
    "hash": "a99b5983bbc4297086261c0bfeecb6b847d4ec2ce14a4b3df340d247dde1df9f"
   }
  }
 },
 "nbformat": 4,
 "nbformat_minor": 2
}